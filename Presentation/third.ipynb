{
 "cells": [
  {
   "cell_type": "code",
   "execution_count": 1,
   "metadata": {},
   "outputs": [],
   "source": [
    "from common.DeepLab import *\n",
    "from second import *\n",
    "\n",
    "from sklearn.cluster import KMeans"
   ]
  },
  {
   "cell_type": "code",
   "execution_count": 2,
   "metadata": {},
   "outputs": [],
   "source": [
    "#KMeans με n_clusters=2.\n",
    "#https://scikit-learn.org/stable/modules/generated/sklearn.cluster.KMeans.html\n",
    "#https://www.w3schools.com/python/numpy_array_shape.asp\n",
    "#labels_ndarray of shape (n_samples,)\n",
    "#cluster_centers_ndarray of shape (n_clusters, n_features)\n",
    "def runKMeans(deepFeats,afterPCA):\n",
    "\tkM = KMeans(n_clusters=2, random_state = 0)\n",
    "\tkM.fit(afterPCA)\n",
    "\tprint(\"Labels :\",kM.labels_.shape)\n",
    "\tprint(\"Cluster Centers :\",kM.cluster_centers_.shape)\n",
    "\treturn kM.labels_"
   ]
  },
  {
   "cell_type": "code",
   "execution_count": 3,
   "metadata": {},
   "outputs": [],
   "source": [
    "#Η run_visualization της third.py.Χρήση reshape για επαναφορά(?)\n",
    "def run_vis(deepFeats,labels):\n",
    "\tv = labels.reshape(deepFeats.shape[0],deepFeats.shape[1])\n",
    "\t#print(smt)\n",
    "\tplt.imshow(v)\n",
    "\tplt.show()"
   ]
  },
  {
   "cell_type": "code",
   "execution_count": 4,
   "metadata": {},
   "outputs": [
    {
     "name": "stdout",
     "output_type": "stream",
     "text": [
      "Downloading model, this might take a while...\n",
      "Download completed! loading DeepLab model...\n",
      "Model loaded successfully!\n",
      "Running deeplab on image airplane.jpg...\n",
      "Τα αρχικά δεδομένα μου έχουν μέγεθος: (4225, 256)\n",
      "Μετά το PCA έχουμε μέγεθος: (4225, 8)\n",
      "Labels : (4225,)\n",
      "Cluster Centers : (2, 8)\n"
     ]
    },
    {
     "data": {
      "image/png": "[encoded data removed]",
      "text/plain": [
       "<Figure size 432x288 with 1 Axes>"
      ]
     },
     "metadata": {
      "needs_background": "light"
     },
     "output_type": "display_data"
    },
    {
     "name": "stdout",
     "output_type": "stream",
     "text": [
      "Running deeplab on image athens.jpg...\n",
      "Τα αρχικά δεδομένα μου έχουν μέγεθος: (4225, 256)\n",
      "Μετά το PCA έχουμε μέγεθος: (4225, 8)\n",
      "Labels : (4225,)\n",
      "Cluster Centers : (2, 8)\n"
     ]
    },
    {
     "data": {
      "image/png": "[encoded data removed]",
      "text/plain": [
       "<Figure size 432x288 with 1 Axes>"
      ]
     },
     "metadata": {
      "needs_background": "light"
     },
     "output_type": "display_data"
    },
    {
     "name": "stdout",
     "output_type": "stream",
     "text": [
      "Running deeplab on image eating.jpg...\n",
      "Τα αρχικά δεδομένα μου έχουν μέγεθος: (4225, 256)\n",
      "Μετά το PCA έχουμε μέγεθος: (4225, 8)\n",
      "Labels : (4225,)\n",
      "Cluster Centers : (2, 8)\n"
     ]
    },
    {
     "data": {
      "image/png": "[encoded data removed]",
      "text/plain": [
       "<Figure size 432x288 with 1 Axes>"
      ]
     },
     "metadata": {
      "needs_background": "light"
     },
     "output_type": "display_data"
    },
    {
     "name": "stdout",
     "output_type": "stream",
     "text": [
      "Running deeplab on image familywithdogs.jpg...\n",
      "Τα αρχικά δεδομένα μου έχουν μέγεθος: (4225, 256)\n",
      "Μετά το PCA έχουμε μέγεθος: (4225, 8)\n",
      "Labels : (4225,)\n",
      "Cluster Centers : (2, 8)\n"
     ]
    },
    {
     "data": {
      "image/png": "[encoded data removed]",
      "text/plain": [
       "<Figure size 432x288 with 1 Axes>"
      ]
     },
     "metadata": {
      "needs_background": "light"
     },
     "output_type": "display_data"
    },
    {
     "name": "stdout",
     "output_type": "stream",
     "text": [
      "Running deeplab on image syntagma.jpg...\n",
      "Τα αρχικά δεδομένα μου έχουν μέγεθος: (4225, 256)\n",
      "Μετά το PCA έχουμε μέγεθος: (4225, 8)\n",
      "Labels : (4225,)\n",
      "Cluster Centers : (2, 8)\n"
     ]
    },
    {
     "data": {
      "image/png": "[encoded data removed]",
      "text/plain": [
       "<Figure size 432x288 with 1 Axes>"
      ]
     },
     "metadata": {
      "needs_background": "light"
     },
     "output_type": "display_data"
    }
   ],
   "source": [
    "#Κάνω PCA με d = 8 και μετά τρέχω KMeans.\n",
    "#Σημείωση: Το χρώμα είναι κίτρινο.\n",
    "def main():\n",
    "\tL = [\"airplane.jpg\",\"athens.jpg\",\"eating.jpg\",\"familywithdogs.jpg\",\"syntagma.jpg\"]\n",
    "\tif not L:\n",
    "\t\tprint(\"Run : python first.py example1.jpg example2.jpg ...\")\n",
    "\t\treturn\n",
    "\tMODEL = getModel(\"mobilenetv2_coco_voctrainaug\",\"concat_projection/Conv2D:0\")\n",
    "\tfor i in L:\n",
    "\t\tif os.path.isfile(i):\n",
    "\t\t\tdeepFeats = getFeature(i,MODEL)[1]\n",
    "\t\t\tafterPCA = perform_pca(deepFeats,8)\n",
    "\t\t\trun_vis(deepFeats,runKMeans(deepFeats,afterPCA))\n",
    "\n",
    "if __name__ == \"__main__\":\n",
    "\tmain()"
   ]
  },
  {
   "cell_type": "code",
   "execution_count": null,
   "metadata": {},
   "outputs": [],
   "source": []
  }
 ],
 "metadata": {
  "kernelspec": {
   "display_name": "Python 3 (ipykernel)",
   "language": "python",
   "name": "python3"
  },
  "language_info": {
   "codemirror_mode": {
    "name": "ipython",
    "version": 3
   },
   "file_extension": ".py",
   "mimetype": "text/x-python",
   "name": "python",
   "nbconvert_exporter": "python",
   "pygments_lexer": "ipython3",
   "version": "3.9.4"
  }
 },
 "nbformat": 4,
 "nbformat_minor": 4
}
